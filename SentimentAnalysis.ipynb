{
 "cells": [
  {
   "cell_type": "code",
   "execution_count": 1,
   "metadata": {},
   "outputs": [
    {
     "name": "stderr",
     "output_type": "stream",
     "text": [
      "/home/ADEKUNLE/anaconda3/lib/python3.6/site-packages/ggplot/utils.py:81: FutureWarning:\n",
      "\n",
      "pandas.tslib is deprecated and will be removed in a future version.\n",
      "You can access Timestamp as pandas.Timestamp\n",
      "\n",
      "/home/ADEKUNLE/anaconda3/lib/python3.6/site-packages/ggplot/stats/smoothers.py:4: FutureWarning:\n",
      "\n",
      "The pandas.lib module is deprecated and will be removed in a future version. These are private functions and can be accessed from pandas._libs.lib instead\n",
      "\n",
      "/home/ADEKUNLE/anaconda3/lib/python3.6/site-packages/statsmodels/compat/pandas.py:56: FutureWarning:\n",
      "\n",
      "The pandas.core.datetools module is deprecated and will be removed in a future version. Please use the pandas.tseries module instead.\n",
      "\n"
     ]
    }
   ],
   "source": [
    "%matplotlib inline \n",
    "import seaborn as sns\n",
    "import matplotlib.pyplot as plt\n",
    "import plotly.plotly as py\n",
    "import plotly.tools as tls\n",
    "from ggplot import *\n",
    "\n",
    "import pandas as pd\n",
    "import numpy as np\n",
    "import nltk\n",
    "from nltk import word_tokenize\n",
    "from sklearn.model_selection import train_test_split\n",
    "from nltk.classify.scikitlearn import SklearnClassifier\n",
    "from sklearn.naive_bayes import MultinomialNB, BernoulliNB\n",
    "from sklearn.linear_model import LogisticRegression\n",
    "from sklearn.svm import LinearSVC\n",
    "import sys\n",
    "sys.path.append('../MLRecipes')\n",
    "#import ml_helper as mlhelp\n",
    "import pickle\n",
    "import random\n",
    "import warnings\n",
    "warnings.filterwarnings(\"ignore\")"
   ]
  },
  {
   "cell_type": "code",
   "execution_count": null,
   "metadata": {
    "collapsed": true
   },
   "outputs": [],
   "source": []
  },
  {
   "cell_type": "code",
   "execution_count": 2,
   "metadata": {
    "collapsed": true
   },
   "outputs": [],
   "source": [
    "def find_features(words):\n",
    "    \"\"\"Takes as input a list of tokenized words and outputs features\"\"\"\n",
    "    features = {}\n",
    "    for w in word_features:\n",
    "        features[w] = (w in words) # the dict has the word as key and boolean as value\n",
    "    return features\n",
    "\n",
    "def classify_list(classifier, token_list):\n",
    "    \"\"\"Get predicted label from classifier\"\"\"\n",
    "    values = []\n",
    "    for nested_list in token_list:\n",
    "        value = classifier.classify(find_features(nested_list))\n",
    "        values.append(value)\n",
    "    return values"
   ]
  },
  {
   "cell_type": "code",
   "execution_count": 3,
   "metadata": {},
   "outputs": [
    {
     "data": {
      "text/html": [
       "<div>\n",
       "<style scoped>\n",
       "    .dataframe tbody tr th:only-of-type {\n",
       "        vertical-align: middle;\n",
       "    }\n",
       "\n",
       "    .dataframe tbody tr th {\n",
       "        vertical-align: top;\n",
       "    }\n",
       "\n",
       "    .dataframe thead th {\n",
       "        text-align: right;\n",
       "    }\n",
       "</style>\n",
       "<table border=\"1\" class=\"dataframe\">\n",
       "  <thead>\n",
       "    <tr style=\"text-align: right;\">\n",
       "      <th></th>\n",
       "      <th>Unnamed: 0</th>\n",
       "      <th>datetime</th>\n",
       "      <th>is_reply</th>\n",
       "      <th>is_retweet</th>\n",
       "      <th>nbr_favorite</th>\n",
       "      <th>nbr_reply</th>\n",
       "      <th>nbr_retweet</th>\n",
       "      <th>text</th>\n",
       "      <th>url</th>\n",
       "      <th>user_id</th>\n",
       "      <th>...</th>\n",
       "      <th>AuburnAlabama</th>\n",
       "      <th>justAuburn</th>\n",
       "      <th>justAlabama</th>\n",
       "      <th>link</th>\n",
       "      <th>tweet_tokens</th>\n",
       "      <th>AlabamaToken</th>\n",
       "      <th>AuburnToken</th>\n",
       "      <th>lower_tweet_tokens</th>\n",
       "      <th>lower_AlabamaToken</th>\n",
       "      <th>lower_AuburnToken</th>\n",
       "    </tr>\n",
       "  </thead>\n",
       "  <tbody>\n",
       "    <tr>\n",
       "      <th>0</th>\n",
       "      <td>1</td>\n",
       "      <td>2017-08-25 02:26:56</td>\n",
       "      <td>False</td>\n",
       "      <td>False</td>\n",
       "      <td>3</td>\n",
       "      <td>0</td>\n",
       "      <td>3</td>\n",
       "      <td>Auburn University has asked fans not to roll t...</td>\n",
       "      <td>/AUFootball2017/status/900907315397873664</td>\n",
       "      <td>816450392720547841</td>\n",
       "      <td>...</td>\n",
       "      <td>False</td>\n",
       "      <td>True</td>\n",
       "      <td>False</td>\n",
       "      <td></td>\n",
       "      <td>[Auburn, University, has, asked, fans, not, to...</td>\n",
       "      <td></td>\n",
       "      <td>[Auburn, University, has, asked, fans, not, to...</td>\n",
       "      <td>[auburn, university, has, asked, fans, not, to...</td>\n",
       "      <td>[]</td>\n",
       "      <td>[auburn, university, has, asked, fans, not, to...</td>\n",
       "    </tr>\n",
       "    <tr>\n",
       "      <th>1</th>\n",
       "      <td>2</td>\n",
       "      <td>2017-10-08 15:55:37</td>\n",
       "      <td>False</td>\n",
       "      <td>False</td>\n",
       "      <td>0</td>\n",
       "      <td>0</td>\n",
       "      <td>0</td>\n",
       "      <td>SULONEN: Silence speaks volumes for #Auburnfoo...</td>\n",
       "      <td>/dbbmonica/status/917055892125650944</td>\n",
       "      <td>2603224578</td>\n",
       "      <td>...</td>\n",
       "      <td>False</td>\n",
       "      <td>True</td>\n",
       "      <td>False</td>\n",
       "      <td></td>\n",
       "      <td>[SULONEN, :, Silence, speaks, volumes, for, #A...</td>\n",
       "      <td></td>\n",
       "      <td>[SULONEN, :, Silence, speaks, volumes, for, #A...</td>\n",
       "      <td>[sulonen, :, silence, speaks, volumes, for, #a...</td>\n",
       "      <td>[]</td>\n",
       "      <td>[sulonen, :, silence, speaks, volumes, for, #a...</td>\n",
       "    </tr>\n",
       "    <tr>\n",
       "      <th>2</th>\n",
       "      <td>3</td>\n",
       "      <td>2016-04-09 20:41:47</td>\n",
       "      <td>False</td>\n",
       "      <td>False</td>\n",
       "      <td>3</td>\n",
       "      <td>0</td>\n",
       "      <td>0</td>\n",
       "      <td>My horse all-in to first place #Jovon  referen...</td>\n",
       "      <td>/AlKotero/status/718901745640837120</td>\n",
       "      <td>1437203700</td>\n",
       "      <td>...</td>\n",
       "      <td>False</td>\n",
       "      <td>True</td>\n",
       "      <td>False</td>\n",
       "      <td></td>\n",
       "      <td>[My, horse, all-in, to, first, place, #Jovon, ...</td>\n",
       "      <td></td>\n",
       "      <td>[My, horse, all-in, to, first, place, #Jovon, ...</td>\n",
       "      <td>[my, horse, all-in, to, first, place, #jovon, ...</td>\n",
       "      <td>[]</td>\n",
       "      <td>[my, horse, all-in, to, first, place, #jovon, ...</td>\n",
       "    </tr>\n",
       "    <tr>\n",
       "      <th>3</th>\n",
       "      <td>4</td>\n",
       "      <td>2016-09-03 21:58:59</td>\n",
       "      <td>False</td>\n",
       "      <td>False</td>\n",
       "      <td>0</td>\n",
       "      <td>0</td>\n",
       "      <td>0</td>\n",
       "      <td>Best time of the year! #gameday  #auburnfootba...</td>\n",
       "      <td>/bradcampbell29/status/772192190634295297</td>\n",
       "      <td>41000950</td>\n",
       "      <td>...</td>\n",
       "      <td>False</td>\n",
       "      <td>True</td>\n",
       "      <td>False</td>\n",
       "      <td>https://www.</td>\n",
       "      <td>[Best, time, of, the, year, !, #gameday, #aubu...</td>\n",
       "      <td></td>\n",
       "      <td>[Best, time, of, the, year, !, #gameday, #aubu...</td>\n",
       "      <td>[best, time, of, the, year, !, #gameday, #aubu...</td>\n",
       "      <td>[]</td>\n",
       "      <td>[best, time, of, the, year, !, #gameday, #aubu...</td>\n",
       "    </tr>\n",
       "    <tr>\n",
       "      <th>4</th>\n",
       "      <td>5</td>\n",
       "      <td>2017-09-16 22:37:29</td>\n",
       "      <td>False</td>\n",
       "      <td>False</td>\n",
       "      <td>1</td>\n",
       "      <td>0</td>\n",
       "      <td>0</td>\n",
       "      <td>Gus Malzahn era: 2013-September 16, 2017. #RIP...</td>\n",
       "      <td>/harrison_helton/status/909184492803420160</td>\n",
       "      <td>705528705116971009</td>\n",
       "      <td>...</td>\n",
       "      <td>False</td>\n",
       "      <td>True</td>\n",
       "      <td>False</td>\n",
       "      <td></td>\n",
       "      <td>[Gus, Malzahn, era, :, 2013, -, September, 16,...</td>\n",
       "      <td></td>\n",
       "      <td>[Gus, Malzahn, era, :, 2013, -, September, 16,...</td>\n",
       "      <td>[gus, malzahn, era, :, 2013, -, september, 16,...</td>\n",
       "      <td>[]</td>\n",
       "      <td>[gus, malzahn, era, :, 2013, -, september, 16,...</td>\n",
       "    </tr>\n",
       "  </tbody>\n",
       "</table>\n",
       "<p>5 rows × 23 columns</p>\n",
       "</div>"
      ],
      "text/plain": [
       "   Unnamed: 0             datetime  is_reply  is_retweet  nbr_favorite  \\\n",
       "0           1  2017-08-25 02:26:56     False       False             3   \n",
       "1           2  2017-10-08 15:55:37     False       False             0   \n",
       "2           3  2016-04-09 20:41:47     False       False             3   \n",
       "3           4  2016-09-03 21:58:59     False       False             0   \n",
       "4           5  2017-09-16 22:37:29     False       False             1   \n",
       "\n",
       "   nbr_reply  nbr_retweet                                               text  \\\n",
       "0          0            3  Auburn University has asked fans not to roll t...   \n",
       "1          0            0  SULONEN: Silence speaks volumes for #Auburnfoo...   \n",
       "2          0            0  My horse all-in to first place #Jovon  referen...   \n",
       "3          0            0  Best time of the year! #gameday  #auburnfootba...   \n",
       "4          0            0  Gus Malzahn era: 2013-September 16, 2017. #RIP...   \n",
       "\n",
       "                                          url             user_id  \\\n",
       "0   /AUFootball2017/status/900907315397873664  816450392720547841   \n",
       "1        /dbbmonica/status/917055892125650944          2603224578   \n",
       "2         /AlKotero/status/718901745640837120          1437203700   \n",
       "3   /bradcampbell29/status/772192190634295297            41000950   \n",
       "4  /harrison_helton/status/909184492803420160  705528705116971009   \n",
       "\n",
       "                         ...                         AuburnAlabama  \\\n",
       "0                        ...                                 False   \n",
       "1                        ...                                 False   \n",
       "2                        ...                                 False   \n",
       "3                        ...                                 False   \n",
       "4                        ...                                 False   \n",
       "\n",
       "   justAuburn  justAlabama          link  \\\n",
       "0        True        False                 \n",
       "1        True        False                 \n",
       "2        True        False                 \n",
       "3        True        False  https://www.   \n",
       "4        True        False                 \n",
       "\n",
       "                                        tweet_tokens  AlabamaToken  \\\n",
       "0  [Auburn, University, has, asked, fans, not, to...                 \n",
       "1  [SULONEN, :, Silence, speaks, volumes, for, #A...                 \n",
       "2  [My, horse, all-in, to, first, place, #Jovon, ...                 \n",
       "3  [Best, time, of, the, year, !, #gameday, #aubu...                 \n",
       "4  [Gus, Malzahn, era, :, 2013, -, September, 16,...                 \n",
       "\n",
       "                                         AuburnToken  \\\n",
       "0  [Auburn, University, has, asked, fans, not, to...   \n",
       "1  [SULONEN, :, Silence, speaks, volumes, for, #A...   \n",
       "2  [My, horse, all-in, to, first, place, #Jovon, ...   \n",
       "3  [Best, time, of, the, year, !, #gameday, #aubu...   \n",
       "4  [Gus, Malzahn, era, :, 2013, -, September, 16,...   \n",
       "\n",
       "                                  lower_tweet_tokens lower_AlabamaToken  \\\n",
       "0  [auburn, university, has, asked, fans, not, to...                 []   \n",
       "1  [sulonen, :, silence, speaks, volumes, for, #a...                 []   \n",
       "2  [my, horse, all-in, to, first, place, #jovon, ...                 []   \n",
       "3  [best, time, of, the, year, !, #gameday, #aubu...                 []   \n",
       "4  [gus, malzahn, era, :, 2013, -, september, 16,...                 []   \n",
       "\n",
       "                                   lower_AuburnToken  \n",
       "0  [auburn, university, has, asked, fans, not, to...  \n",
       "1  [sulonen, :, silence, speaks, volumes, for, #a...  \n",
       "2  [my, horse, all-in, to, first, place, #jovon, ...  \n",
       "3  [best, time, of, the, year, !, #gameday, #aubu...  \n",
       "4  [gus, malzahn, era, :, 2013, -, september, 16,...  \n",
       "\n",
       "[5 rows x 23 columns]"
      ]
     },
     "execution_count": 3,
     "metadata": {},
     "output_type": "execute_result"
    }
   ],
   "source": [
    "originals_df = open(\"orginalTweetDF.pickle\", \"rb\")\n",
    "originals = pickle.load(originals_df)\n",
    "originals_df.close()\n",
    "\n",
    "originals.head()"
   ]
  },
  {
   "cell_type": "code",
   "execution_count": 4,
   "metadata": {
    "collapsed": true
   },
   "outputs": [],
   "source": [
    "import glob\n",
    "\n",
    "path =r'tokens/neg/' # use your path\n",
    "allFiles = glob.glob(path + \"/*.txt\")\n",
    "frame = pd.DataFrame()\n",
    "list_ = []\n",
    "for file_ in allFiles[:500]:\n",
    "    import codecs\n",
    "    with codecs.open(file_, \"r\",encoding='utf-8', errors='ignore') as fdata:\n",
    "        df = pd.read_csv(fdata)\n",
    "        list_.append(df)\n",
    "frame = pd.concat(list_)"
   ]
  },
  {
   "cell_type": "code",
   "execution_count": 5,
   "metadata": {},
   "outputs": [
    {
     "data": {
      "text/plain": [
       "(0, 18411)"
      ]
     },
     "execution_count": 5,
     "metadata": {},
     "output_type": "execute_result"
    }
   ],
   "source": [
    "frame.shape"
   ]
  },
  {
   "cell_type": "code",
   "execution_count": 6,
   "metadata": {
    "collapsed": true
   },
   "outputs": [],
   "source": [
    "data = frame.transpose()\n",
    "\n",
    "data.to_csv(\"neg.csv\", index_label=True)"
   ]
  },
  {
   "cell_type": "code",
   "execution_count": 7,
   "metadata": {},
   "outputs": [],
   "source": [
    "data = pd.read_csv(\"neg.csv\")\n",
    "\n",
    "data['label'] = 'neg'\n",
    "\n",
    "data.columns = ['review', 'label']"
   ]
  },
  {
   "cell_type": "code",
   "execution_count": 8,
   "metadata": {},
   "outputs": [
    {
     "data": {
      "text/html": [
       "<div>\n",
       "<style scoped>\n",
       "    .dataframe tbody tr th:only-of-type {\n",
       "        vertical-align: middle;\n",
       "    }\n",
       "\n",
       "    .dataframe tbody tr th {\n",
       "        vertical-align: top;\n",
       "    }\n",
       "\n",
       "    .dataframe thead th {\n",
       "        text-align: right;\n",
       "    }\n",
       "</style>\n",
       "<table border=\"1\" class=\"dataframe\">\n",
       "  <thead>\n",
       "    <tr style=\"text-align: right;\">\n",
       "      <th></th>\n",
       "      <th>review</th>\n",
       "      <th>label</th>\n",
       "    </tr>\n",
       "  </thead>\n",
       "  <tbody>\n",
       "    <tr>\n",
       "      <th>0</th>\n",
       "      <td>review by ed johnson-ott</td>\n",
       "      <td>neg</td>\n",
       "    </tr>\n",
       "    <tr>\n",
       "      <th>1</th>\n",
       "      <td>\" \" a christmas story</td>\n",
       "      <td>neg</td>\n",
       "    </tr>\n",
       "    <tr>\n",
       "      <th>2</th>\n",
       "      <td>\" \" a clockwork orange</td>\n",
       "      <td>neg</td>\n",
       "    </tr>\n",
       "    <tr>\n",
       "      <th>3</th>\n",
       "      <td>\" \" a time to kill</td>\n",
       "      <td>neg</td>\n",
       "    </tr>\n",
       "    <tr>\n",
       "      <th>4</th>\n",
       "      <td>\" \" alien</td>\n",
       "      <td>neg</td>\n",
       "    </tr>\n",
       "  </tbody>\n",
       "</table>\n",
       "</div>"
      ],
      "text/plain": [
       "                        review label\n",
       "0    review by ed johnson-ott    neg\n",
       "1       \" \" a christmas story    neg\n",
       "2      \" \" a clockwork orange    neg\n",
       "3          \" \" a time to kill    neg\n",
       "4                   \" \" alien    neg"
      ]
     },
     "execution_count": 8,
     "metadata": {},
     "output_type": "execute_result"
    }
   ],
   "source": [
    "data.head()"
   ]
  },
  {
   "cell_type": "code",
   "execution_count": 9,
   "metadata": {
    "collapsed": true
   },
   "outputs": [],
   "source": [
    "#Positive\n",
    "import glob\n",
    "\n",
    "path =r'tokens/pos/' # use your path\n",
    "allFiles = glob.glob(path + \"/*.txt\")\n",
    "frame = pd.DataFrame()\n",
    "list_ = []\n",
    "for file_ in allFiles[:500]:\n",
    "    import codecs\n",
    "    with codecs.open(file_, \"r\",encoding='utf-8', errors='ignore') as fdata:\n",
    "        df = pd.read_csv(fdata)\n",
    "        list_.append(df)\n",
    "frame = pd.concat(list_)"
   ]
  },
  {
   "cell_type": "code",
   "execution_count": 10,
   "metadata": {},
   "outputs": [
    {
     "data": {
      "text/plain": [
       "(0, 21724)"
      ]
     },
     "execution_count": 10,
     "metadata": {},
     "output_type": "execute_result"
    }
   ],
   "source": [
    "frame.shape"
   ]
  },
  {
   "cell_type": "code",
   "execution_count": 11,
   "metadata": {
    "collapsed": true
   },
   "outputs": [],
   "source": [
    "dataPos = frame.transpose()\n",
    "\n",
    "dataPos.to_csv(\"pos.csv\", index_label=True)"
   ]
  },
  {
   "cell_type": "code",
   "execution_count": 12,
   "metadata": {
    "collapsed": true
   },
   "outputs": [],
   "source": [
    "dataPos = pd.read_csv(\"pos.csv\")\n",
    "\n",
    "dataPos['label'] = 'pos'\n",
    "\n",
    "dataPos.columns = ['review', 'label']"
   ]
  },
  {
   "cell_type": "code",
   "execution_count": 13,
   "metadata": {},
   "outputs": [
    {
     "data": {
      "text/html": [
       "<div>\n",
       "<style scoped>\n",
       "    .dataframe tbody tr th:only-of-type {\n",
       "        vertical-align: middle;\n",
       "    }\n",
       "\n",
       "    .dataframe tbody tr th {\n",
       "        vertical-align: top;\n",
       "    }\n",
       "\n",
       "    .dataframe thead th {\n",
       "        text-align: right;\n",
       "    }\n",
       "</style>\n",
       "<table border=\"1\" class=\"dataframe\">\n",
       "  <thead>\n",
       "    <tr style=\"text-align: right;\">\n",
       "      <th></th>\n",
       "      <th>review</th>\n",
       "      <th>label</th>\n",
       "    </tr>\n",
       "  </thead>\n",
       "  <tbody>\n",
       "    <tr>\n",
       "      <th>0</th>\n",
       "      <td>.</td>\n",
       "      <td>pos</td>\n",
       "    </tr>\n",
       "    <tr>\n",
       "      <th>1</th>\n",
       "      <td>will hunting ( matt damon ) is a natural gen...</td>\n",
       "      <td>pos</td>\n",
       "    </tr>\n",
       "    <tr>\n",
       "      <th>2</th>\n",
       "      <td>\" \" a life less ordinary \" . . . )</td>\n",
       "      <td>pos</td>\n",
       "    </tr>\n",
       "    <tr>\n",
       "      <th>3</th>\n",
       "      <td>\" \" aliens \" and \" the empire strikes back . ...</td>\n",
       "      <td>pos</td>\n",
       "    </tr>\n",
       "    <tr>\n",
       "      <th>4</th>\n",
       "      <td>\" \" broadcast news \" and the notorious \" i'll...</td>\n",
       "      <td>pos</td>\n",
       "    </tr>\n",
       "  </tbody>\n",
       "</table>\n",
       "</div>"
      ],
      "text/plain": [
       "                                              review label\n",
       "0                                                 .    pos\n",
       "1    will hunting ( matt damon ) is a natural gen...   pos\n",
       "2                \" \" a life less ordinary \" . . . )    pos\n",
       "3   \" \" aliens \" and \" the empire strikes back . ...   pos\n",
       "4   \" \" broadcast news \" and the notorious \" i'll...   pos"
      ]
     },
     "execution_count": 13,
     "metadata": {},
     "output_type": "execute_result"
    }
   ],
   "source": [
    "dataPos.head()"
   ]
  },
  {
   "cell_type": "code",
   "execution_count": 14,
   "metadata": {
    "collapsed": true
   },
   "outputs": [],
   "source": [
    "documents = []\n",
    "posDoc = list(zip(dataPos.review, dataPos.label))\n",
    "negDoc = list(zip(data.review, data.label))"
   ]
  },
  {
   "cell_type": "code",
   "execution_count": 15,
   "metadata": {},
   "outputs": [],
   "source": [
    "documents =  documents + posDoc + negDoc"
   ]
  },
  {
   "cell_type": "code",
   "execution_count": 16,
   "metadata": {},
   "outputs": [
    {
     "data": {
      "text/plain": [
       "40133"
      ]
     },
     "execution_count": 16,
     "metadata": {},
     "output_type": "execute_result"
    }
   ],
   "source": [
    "len(documents)"
   ]
  },
  {
   "cell_type": "code",
   "execution_count": 17,
   "metadata": {
    "collapsed": true
   },
   "outputs": [
    {
     "data": {
      "text/plain": [
       "\u001b[0;31mSignature:\u001b[0m \u001b[0mword_tokenize\u001b[0m\u001b[0;34m(\u001b[0m\u001b[0mtext\u001b[0m\u001b[0;34m,\u001b[0m \u001b[0mlanguage\u001b[0m\u001b[0;34m=\u001b[0m\u001b[0;34m'english'\u001b[0m\u001b[0;34m,\u001b[0m \u001b[0mpreserve_line\u001b[0m\u001b[0;34m=\u001b[0m\u001b[0;32mFalse\u001b[0m\u001b[0;34m)\u001b[0m\u001b[0;34m\u001b[0m\u001b[0m\n",
       "\u001b[0;31mDocstring:\u001b[0m\n",
       "Return a tokenized copy of *text*,\n",
       "using NLTK's recommended word tokenizer\n",
       "(currently an improved :class:`.TreebankWordTokenizer`\n",
       "along with :class:`.PunktSentenceTokenizer`\n",
       "for the specified language).\n",
       "\n",
       ":param text: text to split into words\n",
       ":param text: str\n",
       ":param language: the model name in the Punkt corpus\n",
       ":type language: str\n",
       ":param preserve_line: An option to keep the preserve the sentence and not sentence tokenize it.\n",
       ":type preserver_line: bool\n",
       "\u001b[0;31mFile:\u001b[0m      ~/anaconda3/lib/python3.6/site-packages/nltk/tokenize/__init__.py\n",
       "\u001b[0;31mType:\u001b[0m      function\n"
      ]
     },
     "metadata": {},
     "output_type": "display_data"
    }
   ],
   "source": [
    "?word_tokenize"
   ]
  },
  {
   "cell_type": "code",
   "execution_count": 18,
   "metadata": {
    "collapsed": true
   },
   "outputs": [],
   "source": [
    "wordPos = open(\"pos.csv\",\"r\").read()\n",
    "wordNeg = open(\"neg.csv\", \"r\").read()"
   ]
  },
  {
   "cell_type": "code",
   "execution_count": 19,
   "metadata": {},
   "outputs": [],
   "source": [
    "allWords = []\n",
    "WordPos = word_tokenize(wordPos)\n",
    "WordNeg = word_tokenize(wordNeg)\n",
    "\n",
    "for w in WordPos:\n",
    "    allWords.append(w.lower())\n",
    "    \n",
    "for w in WordNeg:\n",
    "    allWords.append(w.lower())"
   ]
  },
  {
   "cell_type": "code",
   "execution_count": 20,
   "metadata": {
    "collapsed": true
   },
   "outputs": [],
   "source": [
    "getAllWords = nltk.FreqDist(allWords)\n",
    "\n",
    "word_features = list(getAllWords.keys())[:10000]\n",
    "\n",
    "featuresets = [(find_features(rev), category) for (rev, category) in documents]"
   ]
  },
  {
   "cell_type": "code",
   "execution_count": 21,
   "metadata": {
    "collapsed": true
   },
   "outputs": [],
   "source": [
    "random.shuffle(featuresets)"
   ]
  },
  {
   "cell_type": "code",
   "execution_count": 22,
   "metadata": {},
   "outputs": [
    {
     "data": {
      "text/plain": [
       "40133"
      ]
     },
     "execution_count": 22,
     "metadata": {},
     "output_type": "execute_result"
    }
   ],
   "source": [
    "len(featuresets) #DataSet hs 40133, let's do train 30,000, test 10133"
   ]
  },
  {
   "cell_type": "code",
   "execution_count": 23,
   "metadata": {
    "scrolled": false
   },
   "outputs": [],
   "source": [
    "training_set = featuresets[:30000]\n",
    "testing_set = featuresets[30000:]"
   ]
  },
  {
   "cell_type": "code",
   "execution_count": 24,
   "metadata": {},
   "outputs": [
    {
     "data": {
      "text/plain": [
       "<SklearnClassifier(BernoulliNB(alpha=1.0, binarize=0.0, class_prior=None, fit_prior=True))>"
      ]
     },
     "execution_count": 24,
     "metadata": {},
     "output_type": "execute_result"
    }
   ],
   "source": [
    "classifier = nltk.NaiveBayesClassifier.train(training_set)\n",
    "\n",
    "MNB_classifier = SklearnClassifier(MultinomialNB())\n",
    "MNB_classifier.train(training_set)\n",
    "\n",
    "BNB_classifier = SklearnClassifier(BernoulliNB())\n",
    "BNB_classifier.train(training_set)"
   ]
  },
  {
   "cell_type": "code",
   "execution_count": 25,
   "metadata": {},
   "outputs": [
    {
     "data": {
      "text/plain": [
       "<SklearnClassifier(LogisticRegression(C=1.0, class_weight=None, dual=False, fit_intercept=True,\n",
       "          intercept_scaling=1, max_iter=100, multi_class='ovr', n_jobs=1,\n",
       "          penalty='l2', random_state=None, solver='liblinear', tol=0.0001,\n",
       "          verbose=0, warm_start=False))>"
      ]
     },
     "execution_count": 25,
     "metadata": {},
     "output_type": "execute_result"
    }
   ],
   "source": [
    "LR_classifier = SklearnClassifier(LinearSVC())\n",
    "LR_classifier.train(training_set)\n",
    "\n",
    "SVM_classifier = SklearnClassifier(LogisticRegression())\n",
    "SVM_classifier.train(training_set)"
   ]
  },
  {
   "cell_type": "markdown",
   "metadata": {},
   "source": [
    "Print Classifier Accuracy"
   ]
  },
  {
   "cell_type": "code",
   "execution_count": 26,
   "metadata": {},
   "outputs": [
    {
     "name": "stdout",
     "output_type": "stream",
     "text": [
      "NLTK Naive Bayes algorithm accuracy percent:  61.896772920161844\n",
      "Multinomial Naive Bayes accuracy percent: 61.77834797197276\n",
      "Bernoulli Naive Bayes accuracy percent: 61.54149807559459\n",
      "Logistic Regression accuracy percent: 61.44281061877035\n",
      "SVM accuracy percent: 62.17309779926972\n"
     ]
    }
   ],
   "source": [
    "print(\"NLTK Naive Bayes algorithm accuracy percent: \", (nltk.classify.accuracy(classifier, testing_set))*100)\n",
    "print(\"Multinomial Naive Bayes accuracy percent:\",(nltk.classify.accuracy(MNB_classifier, testing_set))*100)\n",
    "print(\"Bernoulli Naive Bayes accuracy percent:\",(nltk.classify.accuracy(BNB_classifier, testing_set))*100)\n",
    "print(\"Logistic Regression accuracy percent:\",(nltk.classify.accuracy(LR_classifier, testing_set))*100)\n",
    "print(\"SVM accuracy percent:\",(nltk.classify.accuracy(SVM_classifier, testing_set))*100)"
   ]
  },
  {
   "cell_type": "code",
   "execution_count": 70,
   "metadata": {},
   "outputs": [
    {
     "name": "stdout",
     "output_type": "stream",
     "text": [
      "Most Informative Features\n",
      "                 flubber = True              neg : pos    =     16.2 : 1.0\n",
      "               gladiator = True              pos : neg    =     14.9 : 1.0\n",
      "                  winter = True              pos : neg    =     13.8 : 1.0\n",
      "                 bateman = True              pos : neg    =     13.3 : 1.0\n",
      "                 chicken = True              pos : neg    =     13.0 : 1.0\n",
      "                   whale = True              pos : neg    =     12.7 : 1.0\n",
      "                  welles = True              neg : pos    =     10.6 : 1.0\n",
      "                    alas = True              neg : pos    =     10.2 : 1.0\n",
      "                scarlett = True              pos : neg    =      9.3 : 1.0\n",
      "                      23 = True              neg : pos    =      9.1 : 1.0\n",
      "                  blonde = True              neg : pos    =      8.7 : 1.0\n",
      "                 stanton = True              pos : neg    =      8.7 : 1.0\n",
      "                   skull = True              neg : pos    =      8.3 : 1.0\n",
      "             potentially = True              neg : pos    =      8.3 : 1.0\n",
      "                   sixth = True              pos : neg    =      8.2 : 1.0\n",
      "                   tibet = True              pos : neg    =      8.2 : 1.0\n",
      "                   weave = True              pos : neg    =      8.2 : 1.0\n",
      "               whisperer = True              pos : neg    =      8.2 : 1.0\n",
      "                    jedi = True              pos : neg    =      8.2 : 1.0\n",
      "                  ordell = True              pos : neg    =      7.6 : 1.0\n"
     ]
    }
   ],
   "source": [
    "classifier.show_most_informative_features(20)"
   ]
  },
  {
   "cell_type": "markdown",
   "metadata": {},
   "source": [
    "Use Classifier to Make Prediction"
   ]
  },
  {
   "cell_type": "code",
   "execution_count": 27,
   "metadata": {
    "collapsed": true
   },
   "outputs": [],
   "source": [
    "auburnTokenList = originals['lower_AuburnToken'].tolist()\n",
    "alabamaTokenList = originals['lower_AlabamaToken'].tolist()"
   ]
  },
  {
   "cell_type": "code",
   "execution_count": 30,
   "metadata": {
    "collapsed": true
   },
   "outputs": [
    {
     "data": {
      "text/plain": [
       "(3718, 675)"
      ]
     },
     "execution_count": 30,
     "metadata": {},
     "output_type": "execute_result"
    }
   ],
   "source": [
    "len(auburnList), len(alabamaList)"
   ]
  },
  {
   "cell_type": "code",
   "execution_count": 29,
   "metadata": {
    "collapsed": true
   },
   "outputs": [],
   "source": [
    "#Get rid of empties\n",
    "auburnList = [x for x in auburnTokenList if x !=[]]\n",
    "alabamaList = [x for x in alabamaTokenList if x !=[]]"
   ]
  },
  {
   "cell_type": "code",
   "execution_count": 31,
   "metadata": {},
   "outputs": [],
   "source": [
    "#Let's do prediction on 500\n",
    "auburnL = auburnList[0:2000]\n",
    "alabamaL = alabamaList[0:650]"
   ]
  },
  {
   "cell_type": "code",
   "execution_count": 32,
   "metadata": {
    "collapsed": true
   },
   "outputs": [],
   "source": [
    "MNBAuburn = classify_list(MNB_classifier, auburnL)\n",
    "MNBAlabama = classify_list(MNB_classifier, alabamaL)\n",
    "\n",
    "BNBAuburn = classify_list(BNB_classifier, auburnL)\n",
    "BNAlabama = classify_list(BNB_classifier, alabamaL)\n",
    "\n",
    "LRAuburn = classify_list(LR_classifier, auburnL)\n",
    "LRAlabama = classify_list(LR_classifier, alabamaL)\n",
    "\n",
    "SVMAuburn = classify_list(SVM_classifier, auburnL)\n",
    "SVMAlabama = classify_list(SVM_classifier, alabamaL)"
   ]
  },
  {
   "cell_type": "code",
   "execution_count": 97,
   "metadata": {},
   "outputs": [],
   "source": [
    "# allAuburnPos = pd.Series([MNBAuburn.count('pos'), BNBAuburn.count('pos'), LRAuburn('pos'), SVMAuburn.count('pos')])\n",
    "\n",
    "# allAuburnNeg = pd.Series([MNBAuburn.count('neg'), BNBAuburn.count('neg'), LRAuburn.count('neg'), SVMAuburn.count('neg')])\n",
    "\n",
    "# allAlabamaPos = pd.Series([MNBAlabama.count('pos'), BNAlabama.count('pos'), LRAlabama('pos'), SVMAlabama('pos')])\n",
    "\n",
    "# allAlabamaNeg = pd.Series([MNBAlabama.count('neg'), BNAlabama.count('neg'), LRAlabama.count('neg'), SVMAlabama.count('neg')])"
   ]
  },
  {
   "cell_type": "code",
   "execution_count": 33,
   "metadata": {},
   "outputs": [],
   "source": [
    "def getCounts(listAlgo, toCheck):\n",
    "    list_ = []\n",
    "    for i in listAlgo:\n",
    "        val = i.count(toCheck)\n",
    "        list_.append(val)\n",
    "    return list_\n",
    "\n",
    "#getCounts([BNAlabama], 'pos')"
   ]
  },
  {
   "cell_type": "code",
   "execution_count": 34,
   "metadata": {
    "collapsed": true
   },
   "outputs": [],
   "source": [
    "auburnAlg = [MNBAuburn, BNBAuburn, LRAuburn, SVMAuburn]\n",
    "allAuburnPos = pd.Series(getCounts(auburnAlg, 'pos'))\n",
    "allAuburnNeg = pd.Series(getCounts(auburnAlg, 'neg'))\n",
    "\n",
    "alabamaAlg = [MNBAlabama, BNAlabama, LRAlabama, SVMAlabama]\n",
    "allAlabamaPos = pd.Series(getCounts(alabamaAlg, 'pos'))\n",
    "allAlabamaNeg = pd.Series(getCounts(alabamaAlg, 'neg'))"
   ]
  },
  {
   "cell_type": "code",
   "execution_count": 35,
   "metadata": {},
   "outputs": [
    {
     "data": {
      "image/png": "[encoded data removed]",
      "text/plain": [
       "<matplotlib.figure.Figure at 0x7fa28bf3c128>"
      ]
     },
     "metadata": {},
     "output_type": "display_data"
    }
   ],
   "source": [
    "multiple_bars=plt.figure()\n",
    "x=['MultNaiveBayes', 'BernNaiveBayes', 'LogisticReg', 'SVM']\n",
    "ind=np.arange(len(x))\n",
    "pos = allAuburnPos\n",
    "neg = allAuburnNeg\n",
    "\n",
    "ax=plt.subplot(111)\n",
    "ax.set_title(\"Auburn Positive and Negative Tweets\")\n",
    "ax.bar(ind-.2, pos, width=.2, color='g', align='center', label='Pos')\n",
    "ax.bar(ind, neg, width=.2, color='r', align='center', label='Neg')\n",
    "\n",
    "ax.set_xticks(ind)\n",
    "ax.set_xticklabels(x)\n",
    "ax.set_ylabel('Number of Tweets')\n",
    "ax.set_xlabel('Model')\n",
    "ax.legend(loc='best')\n",
    "plt.savefig(\"Auburn.png\")\n",
    "plt.show()"
   ]
  },
  {
   "cell_type": "code",
   "execution_count": 36,
   "metadata": {},
   "outputs": [
    {
     "data": {
      "image/png": "[encoded data removed]",
      "text/plain": [
       "<matplotlib.figure.Figure at 0x7fa28bf3c080>"
      ]
     },
     "metadata": {},
     "output_type": "display_data"
    }
   ],
   "source": [
    "multiple_bars=plt.figure()\n",
    "x=['MultNaiveBayes', 'BernNaiveBayes', 'LogisticReg', 'SVM']\n",
    "ind=np.arange(len(x))\n",
    "pos = allAlabamaPos\n",
    "neg = allAlabamaNeg\n",
    "\n",
    "ax=plt.subplot(111)\n",
    "ax.set_title(\"Alabama Positive and Negative Tweets\")\n",
    "ax.bar(ind-.2, pos, width=.2, color='g', align='center', label='Pos')\n",
    "ax.bar(ind, neg, width=.2, color='r', align='center', label='Neg')\n",
    "\n",
    "ax.set_xticks(ind)\n",
    "ax.set_xticklabels(x)\n",
    "ax.set_ylabel('Number of Tweets')\n",
    "ax.set_xlabel('Model')\n",
    "ax.legend(loc='best')\n",
    "plt.savefig(\"Alabama.png\")\n",
    "plt.show()"
   ]
  },
  {
   "cell_type": "code",
   "execution_count": 37,
   "metadata": {},
   "outputs": [
    {
     "name": "stdout",
     "output_type": "stream",
     "text": [
      "Percent negative MNB classifier: 61.85000000000001\n",
      "Percent negative BNB classifier: 20.849999999999998\n",
      "Percent negative LR classifier: 39.300000000000004\n",
      "Percent negative SVM classifier: 36.6\n"
     ]
    }
   ],
   "source": [
    "print(\"Percent negative MNB classifier:\",(MNBAuburn.count('neg')/len(MNBAuburn)*100))\n",
    "print(\"Percent negative BNB classifier:\",(BNBAuburn.count('neg')/len(BNBAuburn)*100))\n",
    "print(\"Percent negative LR classifier:\",(LRAuburn.count('neg')/len(LRAuburn)*100))\n",
    "print(\"Percent negative SVM classifier:\",(SVMAuburn.count('neg')/len(SVMAuburn)*100))"
   ]
  },
  {
   "cell_type": "markdown",
   "metadata": {},
   "source": []
  },
  {
   "cell_type": "code",
   "execution_count": 38,
   "metadata": {},
   "outputs": [
    {
     "name": "stdout",
     "output_type": "stream",
     "text": [
      "Percent negative MNB classifier: 49.23076923076923\n",
      "Percent negative BNB classifier: 14.461538461538462\n",
      "Percent negative LR classifier: 34.15384615384615\n",
      "Percent negative SVM classifier: 31.538461538461537\n"
     ]
    }
   ],
   "source": [
    "print(\"Percent negative MNB classifier:\",(MNBAlabama.count('neg')/len(MNBAlabama)*100))\n",
    "print(\"Percent negative BNB classifier:\",(BNAlabama.count('neg')/len(BNAlabama)*100))\n",
    "print(\"Percent negative LR classifier:\",(LRAlabama.count('neg')/len(LRAlabama)*100))\n",
    "print(\"Percent negative SVM classifier:\",(SVMAlabama.count('neg')/len(SVMAlabama)*100))"
   ]
  },
  {
   "cell_type": "code",
   "execution_count": null,
   "metadata": {
    "collapsed": true
   },
   "outputs": [],
   "source": []
  }
 ],
 "metadata": {
  "kernelspec": {
   "display_name": "Python 3",
   "language": "python",
   "name": "python3"
  },
  "language_info": {
   "codemirror_mode": {
    "name": "ipython",
    "version": 3
   },
   "file_extension": ".py",
   "mimetype": "text/x-python",
   "name": "python",
   "nbconvert_exporter": "python",
   "pygments_lexer": "ipython3",
   "version": "3.6.3"
  }
 },
 "nbformat": 4,
 "nbformat_minor": 2
}
